{
 "cells": [
  {
   "cell_type": "markdown",
   "metadata": {},
   "source": [
    "\n",
    "# Readme\n",
    "### 描述\n",
    "这是一个alan的火柴人 VS 编程的代码,大家可以用它进行测试和学习。\n",
    "\n",
    "本文件为jupyter文件,大家可以用jupyter的阅读器查看。\n",
    "### 相关链接\n",
    "> [原视频](https://www.bilibili.com/video/BV11RXRYuEdL/?spm_id_from=333.337.search-card.all.click)\n",
    "\n",
    "> [项目地址](https://github.com/xystudio/alanCoding/)"
   ]
  },
  {
   "cell_type": "markdown",
   "metadata": {},
   "source": [
    "# 主内容\n",
    "## 引言\n",
    "\n",
    "我们将会跳过如\n",
    "``` python\n",
    "hello\n",
    "```\n",
    "``` python\n",
    "a = \"bark\"\n",
    "while a.isdight():\n",
    "print(a)\n",
    "```\n",
    "等病句\n",
    "\n",
    "## 索引\n",
    "1. 打印\"hi\"\n",
    "    1. 一行代码\n",
    "    2. 多行代码\n",
    "2. 变量的赋值\n",
    "    1. 数字赋值\n",
    "    2. 数字的运算\n",
    "        1. 加减乘除\n",
    "        2. 整除\n",
    "    3. 字符串赋值和运算\n",
    "3. 变量的调用\n",
    "    1. 变量的长度\n",
    "    2. 字符的索引\n",
    "4. 循环\n",
    "    1. for循环\n",
    "    2. while循环\n",
    "5. *的使用\n",
    "6. turtle绘图\n",
    "7. pop方法\n",
    "8. 数学画图\n",
    "9. pygame\n",
    "10. 高潮\n",
    "11. 神经网络"
   ]
  },
  {
   "cell_type": "markdown",
   "metadata": {},
   "source": [
    "## 代码\n",
    "### 1.打印\"hi\"\n",
    "#### 1.1 一行代码"
   ]
  },
  {
   "cell_type": "code",
   "execution_count": null,
   "metadata": {},
   "outputs": [],
   "source": [
    "print(\"hi\")"
   ]
  },
  {
   "cell_type": "markdown",
   "metadata": {},
   "source": [
    "#### 1.2.多行代码"
   ]
  },
  {
   "cell_type": "code",
   "execution_count": null,
   "metadata": {},
   "outputs": [],
   "source": [
    "print(\"hi\")\n",
    "print(\"hi\")\n",
    "print(\"hi\")"
   ]
  },
  {
   "cell_type": "markdown",
   "metadata": {},
   "source": [
    "### 2.变量的赋值\n",
    "#### 2.1.数字赋值"
   ]
  },
  {
   "cell_type": "code",
   "execution_count": null,
   "metadata": {},
   "outputs": [],
   "source": [
    "a = 1 #这里alan也尝试了其他数字\n",
    "print(a)"
   ]
  },
  {
   "cell_type": "markdown",
   "metadata": {},
   "source": [
    "#### 2.2.数字的运算\n",
    "##### 2.2.1加减乘除"
   ]
  },
  {
   "cell_type": "code",
   "execution_count": null,
   "metadata": {},
   "outputs": [],
   "source": [
    "a = 3+2 #这里可以尝试其他运算符\n",
    "print(a)"
   ]
  },
  {
   "cell_type": "markdown",
   "metadata": {},
   "source": [
    "##### 2.2.2.整除\n",
    "这个需要特别讲下,整除就是除法结果向下取整"
   ]
  },
  {
   "cell_type": "code",
   "execution_count": null,
   "metadata": {},
   "outputs": [],
   "source": [
    "a = 3//2\n",
    "print(a)"
   ]
  },
  {
   "cell_type": "markdown",
   "metadata": {},
   "source": [
    "#### 2.3.字符串赋值和运算"
   ]
  },
  {
   "cell_type": "code",
   "execution_count": null,
   "metadata": {},
   "outputs": [],
   "source": [
    "a = 3+2\n",
    "b = \"string\"\n",
    "print(b+\"ing\")\n",
    "print(b+b)\n",
    "#print(b+a) 会显示typeError\n",
    "print(b+str(a)) #这里必须加str,str(a)的结果是字符类型的\"5\""
   ]
  },
  {
   "cell_type": "markdown",
   "metadata": {},
   "source": [
    "### 3.变量的调用\n",
    "#### 3.1变量的长度"
   ]
  },
  {
   "cell_type": "code",
   "execution_count": null,
   "metadata": {},
   "outputs": [],
   "source": [
    "print(len(b+str(a))) #b+str(a)的长度"
   ]
  },
  {
   "cell_type": "markdown",
   "metadata": {},
   "source": [
    "#### 3.2字符的索引\n",
    "索引相当于是字符的编号,每个编号都对应一个字符\n",
    "\n",
    "索引从0开始,第0个索引是第一个字符,第1个是第二个字符,以此类推."
   ]
  },
  {
   "cell_type": "code",
   "execution_count": null,
   "metadata": {},
   "outputs": [],
   "source": [
    "a = \"string\"\n",
    "b = a[1] #可以试试其他索引\n",
    "print(b)"
   ]
  },
  {
   "cell_type": "markdown",
   "metadata": {},
   "source": [
    "### 4.循环\n",
    "#### 4.1for循环\n",
    "for循环会读取字符串中的每个字符,并逐个输出."
   ]
  },
  {
   "cell_type": "code",
   "execution_count": null,
   "metadata": {},
   "outputs": [],
   "source": [
    "for i in a:\n",
    "    print(i)"
   ]
  },
  {
   "cell_type": "markdown",
   "metadata": {},
   "source": [
    "### 4.循环\n",
    "#### 4.2while循环\n",
    "while会检测条件是否满足,如果满足则输出主循环内容,否则输出else内容并退出"
   ]
  },
  {
   "cell_type": "code",
   "execution_count": null,
   "metadata": {},
   "outputs": [],
   "source": [
    "a = \"bark\"\n",
    "while True: #千万不要在执行的时候上厕所...\n",
    "    print(a.upper()) #upper将会将字母大写"
   ]
  },
  {
   "cell_type": "code",
   "execution_count": null,
   "metadata": {},
   "outputs": [],
   "source": [
    "a = \"1234\"\n",
    "while a.isdigit(): #isdight会判断变量是否为数字，此时字符的1234也是数字\n",
    "    print(a.upper())"
   ]
  },
  {
   "cell_type": "code",
   "execution_count": null,
   "metadata": {},
   "outputs": [],
   "source": [
    "a = \"RRRAAAAAAAAAAAAAAAAAA\"\n",
    "while not a.isprintable(): #isprintable会判断变量是否能打印，not将会取反\n",
    "    print(a.upper())\n",
    "else: #else就是判断不成立时操作,并立即退出\n",
    "    print(a)"
   ]
  },
  {
   "cell_type": "markdown",
   "metadata": {},
   "source": [
    "### 5.*的使用\n",
    "*将会输出列表的所有内容"
   ]
  },
  {
   "cell_type": "code",
   "execution_count": null,
   "metadata": {},
   "outputs": [],
   "source": [
    "bomb = [\"BANG\",\"BOOM\",\"BAM\",\"POW\",\"POOF\",\"PAH\"] #这是一个列表\n",
    "print(*bomb)\n",
    "print(*bomb)\n",
    "print(*bomb)\n",
    "print(*bomb)"
   ]
  },
  {
   "cell_type": "markdown",
   "metadata": {},
   "source": [
    "### 6.turtle绘图"
   ]
  },
  {
   "cell_type": "code",
   "execution_count": null,
   "metadata": {},
   "outputs": [],
   "source": [
    "import turtle\n",
    "\n",
    "t = turtle.Turtle()\n",
    "t.forward(400)\n",
    "\n",
    "turtle.done()"
   ]
  },
  {
   "cell_type": "code",
   "execution_count": null,
   "metadata": {},
   "outputs": [],
   "source": [
    "t.speed(0) #alan的speed('fast')会报错\n",
    "\n",
    "t.forward(400)\n",
    "t.left(90)#左转90度\n",
    "t.forward(800)\n",
    "t.left(135)\n",
    "t.forward(1280)\n",
    "\n",
    "turtle.done()"
   ]
  },
  {
   "cell_type": "code",
   "execution_count": null,
   "metadata": {},
   "outputs": [],
   "source": [
    "t.forward(400)\n",
    "t.right(90)#右转90度\n",
    "t.forward(400)\n",
    "t.right(135)\n",
    "t.forward(900)\n",
    "\n",
    "turtle.done()"
   ]
  },
  {
   "cell_type": "code",
   "execution_count": null,
   "metadata": {},
   "outputs": [],
   "source": [
    "t.left(85)\n",
    "t.pensize(10)\n",
    "\n",
    "while True:\n",
    "    t.right(170)\n",
    "    t.forward(400)\n",
    "    t.left(170)\n",
    "    t.forward(400)"
   ]
  },
  {
   "cell_type": "code",
   "execution_count": null,
   "metadata": {},
   "outputs": [],
   "source": [
    "turtle.bye()#清空画板"
   ]
  },
  {
   "cell_type": "markdown",
   "metadata": {},
   "source": [
    "### 7.pop方法\n",
    "pop会输出最后一个数值并删除。\n",
    "\n",
    "请先运行代码1,之后只要运行代码2就行了"
   ]
  },
  {
   "cell_type": "code",
   "execution_count": null,
   "metadata": {},
   "outputs": [],
   "source": [
    "import string as ammo\n",
    "\n",
    "gun = list(ammo.ascii_uppercase)#获取所有大写的ASCII字母"
   ]
  },
  {
   "cell_type": "code",
   "execution_count": null,
   "metadata": {},
   "outputs": [],
   "source": [
    "print(gun.pop())"
   ]
  },
  {
   "cell_type": "markdown",
   "metadata": {},
   "source": [
    "### 8.数学画图\n",
    "使用numpy和matplotlib.pyplot进行数学画图.\n",
    "\n",
    "如果没有这些库,请打开pip,输入代码:\n",
    "```pip install numpy,matplotlib```\n",
    "\n",
    "如果下载太慢,可以添加:\n",
    "```-i https://pypi.tuna.tsinghua.edu.cn/simple```"
   ]
  },
  {
   "cell_type": "code",
   "execution_count": null,
   "metadata": {},
   "outputs": [],
   "source": [
    "import matplotlib.pyplot as plt\n",
    "import numpy as np\n",
    "\n",
    "val = np.random.randint(1,10,10)\n",
    "plt.bar(range(len(val)),val)\n",
    "plt.show()"
   ]
  },
  {
   "cell_type": "code",
   "execution_count": null,
   "metadata": {},
   "outputs": [],
   "source": [
    "import matplotlib.pyplot as plt\n",
    "import numpy as np\n",
    "\n",
    "while True: #千万不要开启时上厕所,要不然你的文件大小...\n",
    "    val = np.random.randint(1,10,10)\n",
    "    plt.bar(range(len(val)),val)\n",
    "    plt.show()"
   ]
  },
  {
   "cell_type": "code",
   "execution_count": null,
   "metadata": {},
   "outputs": [],
   "source": [
    "import matplotlib.pyplot as plt\n",
    "import numpy as np\n",
    "\n",
    "val = np.random.randint(1,10,20)\n",
    "\n",
    "plt.figure(figsize=(10,5))\n",
    "plt.errorbar(range(len(val)),val,val,\n",
    "             fmt=\"o\",capsize=6)\n",
    "plt.plot(range(20),color='red')\n",
    "plt.title(label=\"TITLE\",\n",
    "          fontsize=20,\n",
    "          rotation=90,\n",
    "          loc=\"right\")\n",
    "plt.show()"
   ]
  },
  {
   "cell_type": "code",
   "execution_count": null,
   "metadata": {},
   "outputs": [],
   "source": [
    "def fire(n,c=1): #函数\n",
    "    if c>n:\n",
    "        return #返回\n",
    "    print(\" \"*(c-1)+\"*\"*(2*(n-c)+1))#乘号相当于重复几遍字符\n",
    "    fire(n,c+1)\n",
    "\n",
    "fire(5)"
   ]
  },
  {
   "cell_type": "code",
   "execution_count": null,
   "metadata": {},
   "outputs": [],
   "source": [
    "x = np.arange(0,30,0.1)\n",
    "y = np.cos(x)\n",
    "\n",
    "plt.plot(x,y)"
   ]
  },
  {
   "cell_type": "markdown",
   "metadata": {},
   "source": [
    "### 9.pygame"
   ]
  },
  {
   "cell_type": "code",
   "execution_count": null,
   "metadata": {},
   "outputs": [],
   "source": [
    "import pygame\n",
    "pygame.init()\n",
    "screen = pygame.display.set_mode((1000,500))#alan的屏幕尺寸太大了,这里等比缩小了4倍\n",
    "clock = pygame.time.Clock()\n",
    "square_pos = pygame.Rect(2950/4,1920/4,50,50)\n",
    "while True:\n",
    "    if pygame.event.get(pygame.QUIT):break\n",
    "    keys = pygame.key.get_pressed()\n",
    "    if keys[pygame.K_UP]:\n",
    "        square_pos.y -= 20\n",
    "    if keys[pygame.K_DOWN]:\n",
    "        square_pos.y += 20\n",
    "    if keys[pygame.K_LEFT]:\n",
    "        square_pos.x -= 20\n",
    "    if keys[pygame.K_RIGHT]:\n",
    "        square_pos.x += 20\n",
    "    screen.fill(\"black\")\n",
    "    pygame.draw.rect(screen,\"red\",square_pos)\n",
    "    pygame.display.flip()\n",
    "    clock.tick(60)\n",
    "pygame.quit()"
   ]
  },
  {
   "cell_type": "code",
   "execution_count": null,
   "metadata": {},
   "outputs": [],
   "source": [
    "import pygame\n",
    "pygame.init()\n",
    "screen = pygame.display.set_mode((1000,500))#alan的屏幕尺寸太大了,这里等比缩小了4倍\n",
    "clock = pygame.time.Clock()\n",
    "square_pos = pygame.Rect(2950/4,1920/4,50,50)\n",
    "circle_pos = pygame.Vector2(-100,100)\n",
    "circle_spd = pygame.Vector2()\n",
    "circle_rad = 20\n",
    "circle_acc = 0.01\n",
    "circle_spd_mul = 0.99\n",
    "bounce_str = 1.0\n",
    "while True:\n",
    "    if pygame.event.get(pygame.QUIT):break\n",
    "    keys = pygame.key.get_pressed()\n",
    "    if keys[pygame.K_UP]:\n",
    "        square_pos.y -= 20\n",
    "    if keys[pygame.K_DOWN]:\n",
    "        square_pos.y += 20\n",
    "    if keys[pygame.K_LEFT]:\n",
    "        square_pos.x -= 20\n",
    "    if keys[pygame.K_RIGHT]:\n",
    "        square_pos.x += 20\n",
    "    circle_spd *=circle_spd_mul\n",
    "    circle_spd +=(pygame.Vector2(100,100)-circle_pos)*circle_acc #这里没有小黄,假设黄色方形的位置是小黄\n",
    "    if circle_pos[0]<circle_rad:\n",
    "        circle_pos.update(circle_rad,circle_pos[1])\n",
    "        circle_spd.update(-circle_spd[0]*bounce_str,circle_spd[1])\n",
    "    elif circle_pos[0]>screen.get_width()-circle_rad:\n",
    "        circle_pos.update(screen.get_width()*circle_rad,circle_pos[1])\n",
    "        circle_spd.update(-circle_spd[0]*bounce_str,circle_spd[1])\n",
    "    elif circle_pos[1]<circle_rad:\n",
    "        circle_pos.update(circle_pos[0],circle_rad)\n",
    "        circle_spd.update(circle_spd[0],-circle_spd[1]*bounce_str)\n",
    "    elif circle_pos[1]>screen.get_height()-circle_rad:\n",
    "        circle_pos.update(circle_pos[0],screen.get_height()*circle_rad)\n",
    "        circle_spd.update(circle_spd[0],-circle_spd[1]*bounce_str)\n",
    "    circle_pos +=circle_spd\n",
    "    screen.fill(\"black\")\n",
    "    pygame.draw.circle(screen,\"blue\",circle_pos,circle_rad)\n",
    "    pygame.draw.rect(screen,\"red\",square_pos)\n",
    "    pygame.draw.rect(screen,\"yellow\",pygame.Rect(100,100,50,50))\n",
    "    pygame.display.flip()\n",
    "    clock.tick(60)\n",
    "pygame.quit()"
   ]
  },
  {
   "cell_type": "markdown",
   "metadata": {},
   "source": [
    "### 10.高潮"
   ]
  },
  {
   "cell_type": "code",
   "execution_count": null,
   "metadata": {},
   "outputs": [],
   "source": [
    "import string\n",
    "\n",
    "def fire(n,c=1):\n",
    "    #升级了fire函数,每次打印列表长度个列表\n",
    "    #数字增长曲线为n**2\n",
    "    if c>len(n):\n",
    "        return\n",
    "    print([ch for ch in n])\n",
    "    fire(n,c+1)\n",
    "fire(string.digits)\n",
    "fire(string.ascii_letters)"
   ]
  },
  {
   "cell_type": "code",
   "execution_count": null,
   "metadata": {},
   "outputs": [],
   "source": [
    "def nuke(n):\n",
    "    #比fire威力更大,每一层数字增加10倍,堪比赛博核弹\n",
    "    #增长曲线为10**n\n",
    "    a=[]\n",
    "    for i in range(10):\n",
    "        if(n>1):\n",
    "            a.append(nuke(n-1))\n",
    "        else:\n",
    "            a.append(i)\n",
    "    return a\n",
    "print(nuke(2))#alan这里写的是10,一共有100亿个数字,这里我降到了2(100个数字)"
   ]
  },
  {
   "cell_type": "markdown",
   "metadata": {},
   "source": [
    "### 11.神经网络\n",
    "\n",
    "神经网络还没有完成,敬请期待。"
   ]
  },
  {
   "cell_type": "markdown",
   "metadata": {},
   "source": [
    "# 推广\n",
    "\n",
    "想要学习python知识？点击[这个链接](https://github.com/xystudio/python-teach)吧!"
   ]
  }
 ],
 "metadata": {
  "kernelspec": {
   "display_name": "Python 3",
   "language": "python",
   "name": "python3"
  },
  "language_info": {
   "codemirror_mode": {
    "name": "ipython",
    "version": 3
   },
   "file_extension": ".py",
   "mimetype": "text/x-python",
   "name": "python",
   "nbconvert_exporter": "python",
   "pygments_lexer": "ipython3",
   "version": "3.12.2"
  }
 },
 "nbformat": 4,
 "nbformat_minor": 2
}
